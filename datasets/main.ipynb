{
 "cells": [
  {
   "cell_type": "code",
   "execution_count": 13,
   "metadata": {},
   "outputs": [],
   "source": [
    "import os\n",
    "import re\n",
    "\n",
    "# Directory to scan\n",
    "directory = 'khan2016'\n",
    "\n",
    "# Open a file for aggregating all transcriptions\n",
    "with open(os.path.join(directory, 'all.txt'), 'a') as all_file:\n",
    "    # Iterate over all files in the directory\n",
    "    for filename in os.listdir(directory):\n",
    "        # Check if the file has the '.pb.txt' extension\n",
    "        if filename.endswith('.pb.txt'):\n",
    "            # Open the file\n",
    "            with open(os.path.join(directory, filename), 'r') as file:\n",
    "                # Read all lines\n",
    "                lines = file.readlines()\n",
    "            \n",
    "            # Iterate over all lines\n",
    "            for line in lines:\n",
    "                # Check if the line starts with 'transcription: '\n",
    "                if line.startswith('transcription: '):\n",
    "                    # Extract the transcription\n",
    "                    transcription = re.search(r'transcription: \"(.*)\"', line).group(1)\n",
    "                    \n",
    "                    # Clean the transcription\n",
    "                    transcription = re.sub(r\"(?:^… |[ -]…)\", \"\", transcription)\n",
    "                    transcription = re.sub(r\"\\[GK: .+?\\] \", \"\", transcription)\n",
    "                    \n",
    "                    # Append the transcription to the 'all.txt' file\n",
    "                    all_file.write(transcription + \"\\n\")\n",
    "                    break"
   ]
  },
  {
   "cell_type": "code",
   "execution_count": 34,
   "metadata": {},
   "outputs": [],
   "source": [
    "# Directory to scan\n",
    "directory = 'nazari2023'\n",
    "\n",
    "# Open a file for aggregating all transcriptions\n",
    "with open(os.path.join(directory, 'all.txt'), 'a') as all_file:\n",
    "    # Iterate over all files in the directory\n",
    "    for filename in os.listdir(directory):\n",
    "        # Check if the file has the '.pb.txt' extension\n",
    "        if filename.startswith('id'):\n",
    "            # Open the file\n",
    "            with open(os.path.join(directory, filename), 'r') as file:\n",
    "                # Read all lines\n",
    "                lines = file.readlines()\n",
    "            \n",
    "            # Iterate over all lines\n",
    "            for line in lines:\n",
    "                # Check if the line contains a gloss\n",
    "                if '>' not in line:\n",
    "                    # Extract the transcription\n",
    "                    form = re.search(r'[^ ]  (.*)$', line)\n",
    "                    if not form:\n",
    "                        print(line)\n",
    "                    form = form.group(1)\n",
    "                    \n",
    "                    # Clean the form\n",
    "                    form = re.sub(r\"\\.\", \"\", form)\n",
    "                    \n",
    "                    # Append the form to the 'all.txt' file\n",
    "                    all_file.write(form + \"\\n\")"
   ]
  }
 ],
 "metadata": {
  "kernelspec": {
   "display_name": "Python 3",
   "language": "python",
   "name": "python3"
  },
  "language_info": {
   "codemirror_mode": {
    "name": "ipython",
    "version": 3
   },
   "file_extension": ".py",
   "mimetype": "text/x-python",
   "name": "python",
   "nbconvert_exporter": "python",
   "pygments_lexer": "ipython3",
   "version": "3.10.13"
  }
 },
 "nbformat": 4,
 "nbformat_minor": 2
}
